"""DEFUNCT"""
{
  "nbformat": 4,
  "nbformat_minor": 0,
  "metadata": {
    "colab": {
      "name": "Untitled0.ipynb",
      "provenance": [],
      "collapsed_sections": [],
      "mount_file_id": "1s37sS16D2ulhYcMa1-9KP09ZWkoboMIK",
      "authorship_tag": "ABX9TyOq1Xn1WvJBwMM7cwsxEcYP",
      "include_colab_link": true
    },
    "kernelspec": {
      "name": "python3",
      "display_name": "Python 3"
    },
    "language_info": {
      "name": "python"
    }
  },
  "cells": [
    {
      "cell_type": "markdown",
      "metadata": {
        "id": "view-in-github",
        "colab_type": "text"
      },
      "source": [
        "<a href=\"https://colab.research.google.com/github/kipprr/qh2021krt/blob/main/interactive_map.ipynb\" target=\"_parent\"><img src=\"https://colab.research.google.com/assets/colab-badge.svg\" alt=\"Open In Colab\"/></a>"
      ]
    },
    {
      "cell_type": "code",
      "metadata": {
        "colab": {
          "base_uri": "https://localhost:8080/",
          "height": 573
        },
        "id": "5wa1WHxQgQk2",
        "outputId": "74e72af3-0ca3-452b-ca96-d8150a378c85"
      },
      "source": [
        "import os\n",
        "import folium\n",
        "from folium import plugins\n",
        "import rioxarray as rxr\n",
        "import earthpy as et\n",
        "import earthpy.spatial as es\n",
        "import pandas as pd\n",
        "import numpy as np\n",
        "import plotly\n",
        "import geopandas as gpd\n",
        "\n",
        "cong-dist = gpd.read_file(\"/content/drive/MyDrive/Colab Notebooks/tl_2018_us_cd116.shp\")\n",
        "\n",
        "cong-dist.head()\n",
        "\n"
      ],
      "execution_count": 21,
      "outputs": [
        {
          "output_type": "execute_result",
          "data": {
            "text/html": [
              "<div>\n",
              "<style scoped>\n",
              "    .dataframe tbody tr th:only-of-type {\n",
              "        vertical-align: middle;\n",
              "    }\n",
              "\n",
              "    .dataframe tbody tr th {\n",
              "        vertical-align: top;\n",
              "    }\n",
              "\n",
              "    .dataframe thead th {\n",
              "        text-align: right;\n",
              "    }\n",
              "</style>\n",
              "<table border=\"1\" class=\"dataframe\">\n",
              "  <thead>\n",
              "    <tr style=\"text-align: right;\">\n",
              "      <th></th>\n",
              "      <th>STATEFP</th>\n",
              "      <th>CD116FP</th>\n",
              "      <th>GEOID</th>\n",
              "      <th>NAMELSAD</th>\n",
              "      <th>LSAD</th>\n",
              "      <th>CDSESSN</th>\n",
              "      <th>MTFCC</th>\n",
              "      <th>FUNCSTAT</th>\n",
              "      <th>ALAND</th>\n",
              "      <th>AWATER</th>\n",
              "      <th>INTPTLAT</th>\n",
              "      <th>INTPTLON</th>\n",
              "      <th>geometry</th>\n",
              "    </tr>\n",
              "  </thead>\n",
              "  <tbody>\n",
              "    <tr>\n",
              "      <th>0</th>\n",
              "      <td>27</td>\n",
              "      <td>07</td>\n",
              "      <td>2707</td>\n",
              "      <td>Congressional District 7</td>\n",
              "      <td>C2</td>\n",
              "      <td>116</td>\n",
              "      <td>G5200</td>\n",
              "      <td>N</td>\n",
              "      <td>86580712408</td>\n",
              "      <td>5058381039</td>\n",
              "      <td>+46.5530202</td>\n",
              "      <td>-095.6759048</td>\n",
              "      <td>POLYGON ((-97.23909 48.96826, -97.23909 48.968...</td>\n",
              "    </tr>\n",
              "    <tr>\n",
              "      <th>1</th>\n",
              "      <td>27</td>\n",
              "      <td>02</td>\n",
              "      <td>2702</td>\n",
              "      <td>Congressional District 2</td>\n",
              "      <td>C2</td>\n",
              "      <td>116</td>\n",
              "      <td>G5200</td>\n",
              "      <td>N</td>\n",
              "      <td>6314464923</td>\n",
              "      <td>243358361</td>\n",
              "      <td>+44.4789680</td>\n",
              "      <td>-092.8530418</td>\n",
              "      <td>POLYGON ((-93.91131 44.54651, -93.91024 44.548...</td>\n",
              "    </tr>\n",
              "    <tr>\n",
              "      <th>2</th>\n",
              "      <td>27</td>\n",
              "      <td>06</td>\n",
              "      <td>2706</td>\n",
              "      <td>Congressional District 6</td>\n",
              "      <td>C2</td>\n",
              "      <td>116</td>\n",
              "      <td>G5200</td>\n",
              "      <td>N</td>\n",
              "      <td>7460634590</td>\n",
              "      <td>408723230</td>\n",
              "      <td>+45.3368069</td>\n",
              "      <td>-093.8520551</td>\n",
              "      <td>POLYGON ((-94.64041 45.37072, -94.64039 45.371...</td>\n",
              "    </tr>\n",
              "    <tr>\n",
              "      <th>3</th>\n",
              "      <td>27</td>\n",
              "      <td>08</td>\n",
              "      <td>2708</td>\n",
              "      <td>Congressional District 8</td>\n",
              "      <td>C2</td>\n",
              "      <td>116</td>\n",
              "      <td>G5200</td>\n",
              "      <td>N</td>\n",
              "      <td>72281499178</td>\n",
              "      <td>12448503736</td>\n",
              "      <td>+47.2503370</td>\n",
              "      <td>-092.9638699</td>\n",
              "      <td>POLYGON ((-95.18322 47.41277, -95.16598 47.412...</td>\n",
              "    </tr>\n",
              "    <tr>\n",
              "      <th>4</th>\n",
              "      <td>17</td>\n",
              "      <td>01</td>\n",
              "      <td>1701</td>\n",
              "      <td>Congressional District 1</td>\n",
              "      <td>C2</td>\n",
              "      <td>116</td>\n",
              "      <td>G5200</td>\n",
              "      <td>N</td>\n",
              "      <td>669256000</td>\n",
              "      <td>2067510</td>\n",
              "      <td>+41.5466708</td>\n",
              "      <td>-087.8357472</td>\n",
              "      <td>POLYGON ((-88.13677 41.42285, -88.13633 41.422...</td>\n",
              "    </tr>\n",
              "  </tbody>\n",
              "</table>\n",
              "</div>"
            ],
            "text/plain": [
              "  STATEFP  ...                                           geometry\n",
              "0      27  ...  POLYGON ((-97.23909 48.96826, -97.23909 48.968...\n",
              "1      27  ...  POLYGON ((-93.91131 44.54651, -93.91024 44.548...\n",
              "2      27  ...  POLYGON ((-94.64041 45.37072, -94.64039 45.371...\n",
              "3      27  ...  POLYGON ((-95.18322 47.41277, -95.16598 47.412...\n",
              "4      17  ...  POLYGON ((-88.13677 41.42285, -88.13633 41.422...\n",
              "\n",
              "[5 rows x 13 columns]"
            ]
          },
          "metadata": {},
          "execution_count": 21
        }
      ]
    },
    {
      "cell_type": "code",
      "metadata": {
        "id": "zeeeQgofiQQb"
      },
      "source": [
        ""
      ],
      "execution_count": null,
      "outputs": []
    }
  ]
}
